{
  "nbformat": 4,
  "nbformat_minor": 0,
  "metadata": {
    "colab": {
      "name": "FlipKart web scraping(mobile data).ipynb",
      "provenance": [],
      "include_colab_link": true
    },
    "kernelspec": {
      "name": "python3",
      "display_name": "Python 3"
    },
    "language_info": {
      "name": "python"
    }
  },
  "cells": [
    {
      "cell_type": "markdown",
      "metadata": {
        "id": "view-in-github",
        "colab_type": "text"
      },
      "source": [
        "<a href=\"https://colab.research.google.com/github/niksom406/webscrapping/blob/main/FlipKart_web_scraping(mobile_data).ipynb\" target=\"_parent\"><img src=\"https://colab.research.google.com/assets/colab-badge.svg\" alt=\"Open In Colab\"/></a>"
      ]
    },
    {
      "cell_type": "code",
      "metadata": {
        "id": "2XPsU2SBfo2-"
      },
      "source": [
        "from bs4 import BeautifulSoup\n",
        "import csv\n",
        "import requests\n",
        "import pandas as pd"
      ],
      "execution_count": null,
      "outputs": []
    },
    {
      "cell_type": "code",
      "metadata": {
        "id": "_ZUlfwr1jvm-"
      },
      "source": [
        "discription = []\n",
        "memory = []\n",
        "display = []\n",
        "camera = []\n",
        "battery =[]\n",
        "prices = []"
      ],
      "execution_count": null,
      "outputs": []
    },
    {
      "cell_type": "code",
      "metadata": {
        "id": "McQPNyq0klgx"
      },
      "source": [
        "pages = list(range(1,20))\n",
        "for page in pages:\n",
        "  response = requests.get(\"https://www.flipkart.com/search?q=mobile&otracker=search&otracker1=search&marketplace=FLIPKART&as-show=on&as=off&page={}\".format(page)).text\n",
        "  soup = BeautifulSoup(response,\"html.parser\")\n",
        "\n",
        "  desc = soup.find_all(\"div\",class_ = \"_4rR01T\")\n",
        "  for i in range(len(desc)):\n",
        "    discription.append(desc[i].text)\n",
        "  \n",
        "  commonclass = soup.find_all(\"li\",class_= \"rgWa7D\")\n",
        "  for i in range(len(commonclass)):\n",
        "    info = commonclass[i].text\n",
        "    if(\"RAM\" in info or \"ROM\" in info):\n",
        "      memory.append(info)\n",
        "    elif(\"Display\" in info):\n",
        "      display.append(info)\n",
        "    elif(\"Camera\" in info):\n",
        "      camera.append(info)\n",
        "    elif(\"Battery\" in info):\n",
        "      battery.append(info)\n",
        "\n",
        "  price = soup.find_all(\"div\",class_=\"_30jeq3 _1_WHN1\")\n",
        "  for i in range(len(price)):\n",
        "    prices.append(price[i].text)\n"
      ],
      "execution_count": null,
      "outputs": []
    },
    {
      "cell_type": "code",
      "metadata": {
        "colab": {
          "base_uri": "https://localhost:8080/"
        },
        "id": "CwYnrJTltunx",
        "outputId": "6672d7e3-45fa-4f96-fa33-fc1698c25c1c"
      },
      "source": [
        "print(len(discription))\n",
        "print(len(memory))\n",
        "print(len(display))\n",
        "print(len(camera))\n",
        "print(len(battery))\n",
        "print(len(prices))"
      ],
      "execution_count": null,
      "outputs": [
        {
          "output_type": "stream",
          "name": "stdout",
          "text": [
            "456\n",
            "454\n",
            "500\n",
            "449\n",
            "467\n",
            "456\n"
          ]
        }
      ]
    },
    {
      "cell_type": "code",
      "metadata": {
        "id": "d4qNjDkkuF-_"
      },
      "source": [
        "df = {\"DESCRIPTION\":discription[:440],\"MEMORY\":memory[:440],\"DISPLAY\":display[:440],\"CAMERA\":camera[:440],\"BATTERY\":battery[:440],\"PRICE\":prices[:440]}\n",
        "dataset = pd.DataFrame(data = df)"
      ],
      "execution_count": null,
      "outputs": []
    },
    {
      "cell_type": "code",
      "metadata": {
        "colab": {
          "base_uri": "https://localhost:8080/",
          "height": 594
        },
        "id": "aa6qP0V3v7ig",
        "outputId": "037ddf77-dc02-4cf9-a077-8feb91470ea2"
      },
      "source": [
        "dataset"
      ],
      "execution_count": null,
      "outputs": [
        {
          "output_type": "execute_result",
          "data": {
            "text/html": [
              "<div>\n",
              "<style scoped>\n",
              "    .dataframe tbody tr th:only-of-type {\n",
              "        vertical-align: middle;\n",
              "    }\n",
              "\n",
              "    .dataframe tbody tr th {\n",
              "        vertical-align: top;\n",
              "    }\n",
              "\n",
              "    .dataframe thead th {\n",
              "        text-align: right;\n",
              "    }\n",
              "</style>\n",
              "<table border=\"1\" class=\"dataframe\">\n",
              "  <thead>\n",
              "    <tr style=\"text-align: right;\">\n",
              "      <th></th>\n",
              "      <th>DESCRIPTION</th>\n",
              "      <th>MEMORY</th>\n",
              "      <th>DISPLAY</th>\n",
              "      <th>CAMERA</th>\n",
              "      <th>BATTERY</th>\n",
              "      <th>PRICE</th>\n",
              "    </tr>\n",
              "  </thead>\n",
              "  <tbody>\n",
              "    <tr>\n",
              "      <th>0</th>\n",
              "      <td>realme C21Y (Cross Black, 64 GB)</td>\n",
              "      <td>4 GB RAM | 64 GB ROM | Expandable Upto 256 GB</td>\n",
              "      <td>16.51 cm (6.5 inch) HD+ Display</td>\n",
              "      <td>13MP + 2MP + 2MP | 5MP Front Camera</td>\n",
              "      <td>5000 mAh Battery</td>\n",
              "      <td>₹8,999</td>\n",
              "    </tr>\n",
              "    <tr>\n",
              "      <th>1</th>\n",
              "      <td>APPLE iPhone 12 Mini (Black, 64 GB)</td>\n",
              "      <td>64 GB ROM</td>\n",
              "      <td>13.72 cm (5.4 inch) Super Retina XDR Display</td>\n",
              "      <td>12MP + 12MP | 12MP Front Camera</td>\n",
              "      <td>5000 mAh Battery</td>\n",
              "      <td>₹38,999</td>\n",
              "    </tr>\n",
              "    <tr>\n",
              "      <th>2</th>\n",
              "      <td>realme C21Y (Cross Blue, 64 GB)</td>\n",
              "      <td>4 GB RAM | 64 GB ROM | Expandable Upto 256 GB</td>\n",
              "      <td>All Screen OLED Display</td>\n",
              "      <td>12MP TrueDepth Front Camera with Night Mode, 4...</td>\n",
              "      <td>6000 mAh Lithium-ion Polymer Battery</td>\n",
              "      <td>₹8,999</td>\n",
              "    </tr>\n",
              "    <tr>\n",
              "      <th>3</th>\n",
              "      <td>APPLE iPhone 12 (Green, 128 GB)</td>\n",
              "      <td>128 GB ROM</td>\n",
              "      <td>16.51 cm (6.5 inch) HD+ Display</td>\n",
              "      <td>13MP + 2MP + 2MP | 5MP Front Camera</td>\n",
              "      <td>5000 mAh Battery</td>\n",
              "      <td>₹56,999</td>\n",
              "    </tr>\n",
              "    <tr>\n",
              "      <th>4</th>\n",
              "      <td>APPLE iPhone 12 Mini (White, 64 GB)</td>\n",
              "      <td>64 GB ROM</td>\n",
              "      <td>15.49 cm (6.1 inch) Super Retina XDR Display</td>\n",
              "      <td>12MP + 12MP | 12MP Front Camera</td>\n",
              "      <td>5000 mAh Battery</td>\n",
              "      <td>₹38,999</td>\n",
              "    </tr>\n",
              "    <tr>\n",
              "      <th>...</th>\n",
              "      <td>...</td>\n",
              "      <td>...</td>\n",
              "      <td>...</td>\n",
              "      <td>...</td>\n",
              "      <td>...</td>\n",
              "      <td>...</td>\n",
              "    </tr>\n",
              "    <tr>\n",
              "      <th>435</th>\n",
              "      <td>SAMSUNG Galaxy F02s (Diamond Blue, 32 GB)</td>\n",
              "      <td>4 GB RAM | 64 GB ROM | Expandable Upto 512 GB</td>\n",
              "      <td>16.59 cm (6.53 inch) HD+ Display</td>\n",
              "      <td>0.3MP Rear Camera</td>\n",
              "      <td>5065 mAh Lithium-ion Polymer Battery</td>\n",
              "      <td>₹9,499</td>\n",
              "    </tr>\n",
              "    <tr>\n",
              "      <th>436</th>\n",
              "      <td>SAMSUNG Galaxy A52s 5G (Awesome White, 128 GB)</td>\n",
              "      <td>32 MB RAM | 32 MB ROM</td>\n",
              "      <td>16.56 cm (6.52 inch) HD+ Display</td>\n",
              "      <td>0.3MP Rear Camera</td>\n",
              "      <td>4000 mAh Lithium-ion Battery</td>\n",
              "      <td>₹35,999</td>\n",
              "    </tr>\n",
              "    <tr>\n",
              "      <th>437</th>\n",
              "      <td>Redmi 8 (Emerald Green, 64 GB)</td>\n",
              "      <td>4 GB RAM | 64 GB ROM | Expandable Upto 512 GB</td>\n",
              "      <td>16.51 cm (6.5 inch) HD+ Display</td>\n",
              "      <td>48MP + 8MP + 5MP + 2MP | 13MP Front Camera</td>\n",
              "      <td>4000 mAh Lithium-ion Battery</td>\n",
              "      <td>₹10,999</td>\n",
              "    </tr>\n",
              "    <tr>\n",
              "      <th>438</th>\n",
              "      <td>Snexian Rock</td>\n",
              "      <td>64 MB RAM | 64 MB ROM | Expandable Upto 16 GB</td>\n",
              "      <td>16.51 cm (6.5 inch) HD+ Display</td>\n",
              "      <td>48MP + 8MP + 5MP + 2MP | 13MP Front Camera</td>\n",
              "      <td>4000 mAh Lithium-ion Battery</td>\n",
              "      <td>₹1,275</td>\n",
              "    </tr>\n",
              "    <tr>\n",
              "      <th>439</th>\n",
              "      <td>Tecno Spark 6 Go (Aqua Blue, 64 GB)</td>\n",
              "      <td>64 MB RAM | 64 MB ROM | Expandable Upto 16 GB</td>\n",
              "      <td>16.59 cm (6.53 inch) Full HD+ Display</td>\n",
              "      <td>16MP Rear Camera | 8MP Front Camera</td>\n",
              "      <td>4000 mAh Lithium-ion Battery</td>\n",
              "      <td>₹8,999</td>\n",
              "    </tr>\n",
              "  </tbody>\n",
              "</table>\n",
              "<p>440 rows × 6 columns</p>\n",
              "</div>"
            ],
            "text/plain": [
              "                                        DESCRIPTION  ...    PRICE\n",
              "0                  realme C21Y (Cross Black, 64 GB)  ...   ₹8,999\n",
              "1               APPLE iPhone 12 Mini (Black, 64 GB)  ...  ₹38,999\n",
              "2                   realme C21Y (Cross Blue, 64 GB)  ...   ₹8,999\n",
              "3                   APPLE iPhone 12 (Green, 128 GB)  ...  ₹56,999\n",
              "4               APPLE iPhone 12 Mini (White, 64 GB)  ...  ₹38,999\n",
              "..                                              ...  ...      ...\n",
              "435       SAMSUNG Galaxy F02s (Diamond Blue, 32 GB)  ...   ₹9,499\n",
              "436  SAMSUNG Galaxy A52s 5G (Awesome White, 128 GB)  ...  ₹35,999\n",
              "437                  Redmi 8 (Emerald Green, 64 GB)  ...  ₹10,999\n",
              "438                                    Snexian Rock  ...   ₹1,275\n",
              "439             Tecno Spark 6 Go (Aqua Blue, 64 GB)  ...   ₹8,999\n",
              "\n",
              "[440 rows x 6 columns]"
            ]
          },
          "metadata": {},
          "execution_count": 11
        }
      ]
    },
    {
      "cell_type": "code",
      "metadata": {
        "id": "EVROEYQmwDaw"
      },
      "source": [
        "dataset.to_csv(\"mobile_dataset.csv\")"
      ],
      "execution_count": null,
      "outputs": []
    }
  ]
}