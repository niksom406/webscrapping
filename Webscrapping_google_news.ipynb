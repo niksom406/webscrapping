{
  "nbformat": 4,
  "nbformat_minor": 0,
  "metadata": {
    "colab": {
      "name": "Untitled3.ipynb",
      "provenance": [],
      "authorship_tag": "ABX9TyO2xsttuV4EkhyoeeBLIl3G",
      "include_colab_link": true
    },
    "kernelspec": {
      "name": "python3",
      "display_name": "Python 3"
    },
    "language_info": {
      "name": "python"
    }
  },
  "cells": [
    {
      "cell_type": "markdown",
      "metadata": {
        "id": "view-in-github",
        "colab_type": "text"
      },
      "source": [
        "<a href=\"https://colab.research.google.com/github/niksom406/webscrapping/blob/main/Webscrapping_google_news.ipynb\" target=\"_parent\"><img src=\"https://colab.research.google.com/assets/colab-badge.svg\" alt=\"Open In Colab\"/></a>"
      ]
    },
    {
      "cell_type": "code",
      "execution_count": 2,
      "metadata": {
        "id": "Hrlblyw_EHFo"
      },
      "outputs": [],
      "source": [
        "from urllib.request import Request,urlopen\n",
        "from bs4 import BeautifulSoup\n",
        "import requests"
      ]
    },
    {
      "cell_type": "code",
      "source": [
        "root = \"https://www.google.co.in/\"\n",
        "link = \"https://www.google.com/search?q=trump&rlz=1C1CHBD_enIN858IN859&sxsrf=APq-WBtSYZTMhOTDE2lJyUU_JuSbhJbg0A:1645023921590&source=lnms&tbm=nws&sa=X&ved=2ahUKEwjD0PjTv4T2AhWm3jgGHY3tCHQQ_AUoAnoECAIQBA&biw=1147&bih=512&dpr=1.68\"\n",
        "headers = {\"User-Agent\": \"Mozilla/5.0 (Windows NT 10.0; Win64; x64) AppleWebKit/537.36 (KHTML, like Gecko) Chrome/70.0.3538.77 Safari/537.36\"}\n",
        "req = Request(link,headers = headers)\n",
        "webpage = urlopen(req).read()\n",
        "with requests.Session() as c:\n",
        "  soup = BeautifulSoup(webpage,\"html5lib\")\n",
        "  for items in soup.find_all('g-card', attrs = {\"class\":\"ftSUBd\"}):\n",
        "    raw_link = items.find('a',href = True)['href']\n",
        "    title = items.find('div',attrs = {'class':'mCBkyc y355M JQe2Ld nDgy9d'}).get_text()\n",
        "    disc = items.find('div',attrs = {'class':'GI74Re nDgy9d'}).get_text()\n",
        "    time = items.find('div',attrs = {'class':'OSrXXb ZE0LJd'}).get_text()\n",
        "    print(title)\n",
        "    print(raw_link)\n",
        "    print(disc)\n",
        "    print(time,end =\"\\n\\n\")\n",
        "    document = open('google.csv','a')\n",
        "    document.write(\"{},\\n\".format((title,time,disc,raw_link)))"
      ],
      "metadata": {
        "colab": {
          "base_uri": "https://localhost:8080/"
        },
        "id": "ZAWei9XVN0Nf",
        "outputId": "bdbcf18d-f9c0-4158-9a23-1e3dfb622418"
      },
      "execution_count": 45,
      "outputs": [
        {
          "output_type": "stream",
          "name": "stdout",
          "text": [
            "Opinion | Why would Trump want to be president when being a former \n",
            "president is so lucrative?\n",
            "https://www.washingtonpost.com/opinions/2022/02/15/donald-trump-profiting-post-presidency/\n",
            "Will former president Donald Trump run again in 2024? Most observers expect \n",
            "he will, but they should consider an old political maxim: Follow...\n",
            "21 hours ago\n",
            "\n",
            "Trump teases first post on new Twitter-like TRUTH Social site\n",
            "https://nypost.com/2022/02/16/trump-teases-first-post-on-new-twitter-like-truth-social/\n",
            "Former President Donald Trump is preparing for his return to social media \n",
            "-- posting his first message on a beta version of his eagerly...\n",
            "3 hours ago\n",
            "\n",
            "Typo sends Florida drivers to Trump 2024 merch website\n",
            "https://www.nbcnews.com/news/us-news/typo-sends-florida-drivers-trying-resolve-tickets-trump-2024-merch-web-rcna16412\n",
            "An apparent typo was sending motorists in South Florida seeking to resolve \n",
            "their traffic citations to a website selling 2024 merchandise for...\n",
            "16 hours ago\n",
            "\n",
            "Opinion | Trump's Trade War With China Was a Failure\n",
            "https://www.nytimes.com/2022/02/15/opinion/china-trade-war-trump.html\n",
            "Do you remember Donald Trump's trade war? You can be forgiven for having \n",
            "forgotten all about it, given everything that has happened since;...\n",
            "1 day ago\n",
            "\n",
            "Jared Kushner fostering Mid East links, seeks funding after Trump WH\n",
            "https://www.businessinsider.com/jared-kushner-after-trump-presidency-middle-east-private-equity-2022-2\n",
            "Jared Kushner is soliciting funds for his new private equity firm and \n",
            "making use of the links he formed in the Middle East during Trump's...\n",
            "1 hour ago\n",
            "\n"
          ]
        }
      ]
    },
    {
      "cell_type": "code",
      "source": [
        ""
      ],
      "metadata": {
        "id": "RNxWhU7gU2-N"
      },
      "execution_count": null,
      "outputs": []
    }
  ]
}